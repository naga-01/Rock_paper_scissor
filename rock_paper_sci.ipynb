{
 "cells": [
  {
   "cell_type": "code",
   "execution_count": 12,
   "metadata": {},
   "outputs": [],
   "source": [
    "def comp_play():\n",
    "    import random\n",
    "    num = random.randint(1,3)\n",
    "    if(num==1):\n",
    "        return 'Rock'\n",
    "    elif(num==2):\n",
    "        return 'Paper'\n",
    "    elif(num==3):\n",
    "        return 'Scissor'\n",
    "    "
   ]
  },
  {
   "cell_type": "code",
   "execution_count": 13,
   "metadata": {},
   "outputs": [],
   "source": [
    "def player_input():\n",
    "    choice = 0\n",
    "    while not(choice==1 or choice==2 or choice == 3):\n",
    "        print=(\"Enter the below choices...\")\n",
    "        choice = int(input(\"1.Rock\\t2.Paper\\t3.Scissor\\t:\\n\"))\n",
    "    if(choice<4):\n",
    "        if(choice==1):\n",
    "            return 'Rock'\n",
    "        elif(choice==2):\n",
    "            return 'Paper'\n",
    "        elif(choice==3):\n",
    "            return 'Scissor'\n",
    "        "
   ]
  },
  {
   "cell_type": "code",
   "execution_count": 14,
   "metadata": {},
   "outputs": [],
   "source": [
    "def game(a,b):\n",
    "    return(a=='Rock' and b=='Paper' or\n",
    "           a=='Paper' and b=='Scissor'or\n",
    "           a=='Scissor' and b=='Rock')"
   ]
  },
  {
   "cell_type": "code",
   "execution_count": 15,
   "metadata": {},
   "outputs": [],
   "source": [
    "def replay():\n",
    "    return input('Do you want to play again? Enter Yes or No: ').lower().startswith('y')"
   ]
  },
  {
   "cell_type": "code",
   "execution_count": 16,
   "metadata": {},
   "outputs": [
    {
     "name": "stdout",
     "output_type": "stream",
     "text": [
      "Welcome to Rock paper scissor\n",
      "Are you ready to play? Enter Yes or No:yes\n",
      "Enter number of gameplay:5\n",
      "\n",
      "Game 1\n",
      "1.Rock\t2.Paper\t3.Scissor\t:\n",
      "1\n",
      "You:Rock\n",
      "computer:Scissor\n",
      "You got 1 point!!\n",
      "You = 1 and computer = 0\n",
      "\n",
      "Game 2\n",
      "1.Rock\t2.Paper\t3.Scissor\t:\n",
      "1\n",
      "You:Rock\n",
      "computer:Rock\n",
      "No point to both computer and player\n",
      "You = 1 and computer = 0\n",
      "\n",
      "Game 3\n",
      "1.Rock\t2.Paper\t3.Scissor\t:\n",
      "2\n",
      "You:Paper\n",
      "computer:Rock\n",
      "You got 1 point!!\n",
      "You = 2 and computer = 0\n",
      "\n",
      "Game 4\n",
      "1.Rock\t2.Paper\t3.Scissor\t:\n",
      "3\n",
      "You:Scissor\n",
      "computer:Paper\n",
      "You got 1 point!!\n",
      "You = 3 and computer = 0\n",
      "\n",
      "Game 5\n",
      "1.Rock\t2.Paper\t3.Scissor\t:\n",
      "3\n",
      "You:Scissor\n",
      "computer:Paper\n",
      "You got 1 point!!\n",
      "You = 4 and computer = 0\n",
      "***You won***\n",
      "Do you want to play again? Enter Yes or No: no\n"
     ]
    }
   ],
   "source": [
    "print(\"Welcome to Rock paper scissor\")\n",
    "player = 0\n",
    "i=0\n",
    "computer = 0\n",
    "while True:\n",
    "    play_game = input('Are you ready to play? Enter Yes or No:')\n",
    "    \n",
    "    if play_game.lower()[0] == 'y':\n",
    "        game_on = True\n",
    "        num = int(input(\"Enter number of gameplay:\"))\n",
    "    else:\n",
    "        game_on = False\n",
    "        break\n",
    "    \n",
    "    while i<num and game_on:\n",
    "        print(f\"\\nGame {i+1}\")\n",
    "        a = comp_play()\n",
    "        b = player_input()\n",
    "        print(f\"You:{b}\")\n",
    "        print(f\"computer:{a}\")\n",
    "        c = game(a,b)\n",
    "        if(c):   \n",
    "            player+=1\n",
    "            print(\"You got 1 point!!\")\n",
    "            print(f\"You = {player} and computer = {computer}\")\n",
    "        elif not c:\n",
    "            if(a!=b):\n",
    "                computer+=1\n",
    "                print(\"computer got 1 point!!\")\n",
    "                print(f\"You = {player} and computer = {computer}\")\n",
    "            elif(a==b):\n",
    "                print(\"No point to both You and Computer\")\n",
    "                print(f\"You = {player} and computer = {computer}\")\n",
    "\n",
    "                \n",
    "        elif(a==b):\n",
    "            print(\"Draw\")\n",
    "            break \n",
    "        i+=1\n",
    "    if(computer>player):yes\n",
    "        print(\"\\n***Computer won***\")\n",
    "    elif (player>computer):\n",
    "        print(\"***You won***\")\n",
    "    else:\n",
    "        print(\"***Match tied***\")\n",
    "    if not replay():\n",
    "        break"
   ]
  },
  {
   "cell_type": "markdown",
   "metadata": {},
   "source": []
  },
  {
   "cell_type": "code",
   "execution_count": null,
   "metadata": {},
   "outputs": [],
   "source": []
  }
 ],
 "metadata": {
  "kernelspec": {
   "display_name": "Python 3",
   "language": "python",
   "name": "python3"
  },
  "language_info": {
   "codemirror_mode": {
    "name": "ipython",
    "version": 3
   },
   "file_extension": ".py",
   "mimetype": "text/x-python",
   "name": "python",
   "nbconvert_exporter": "python",
   "pygments_lexer": "ipython3",
   "version": "3.7.1"
  }
 },
 "nbformat": 4,
 "nbformat_minor": 2
}
